{
 "cells": [
  {
   "cell_type": "markdown",
   "metadata": {},
   "source": [
    "### Bathymetry: NetCDF to .xyz\n",
    "\n",
    "Objectives: \n",
    "\n",
    "- Crop a bathymetry netcdf to a selected area\n",
    "- Save it as a .xyz file"
   ]
  },
  {
   "cell_type": "code",
   "execution_count": 1,
   "metadata": {},
   "outputs": [],
   "source": [
    "import xarray as xr\n",
    "import pandas as pd\n",
    "import numpy as np"
   ]
  },
  {
   "cell_type": "code",
   "execution_count": 2,
   "metadata": {},
   "outputs": [],
   "source": [
    "# Define coordinates for the crop, filename and filepath\n",
    "\n",
    "filename = 'GEBCO_2019.nc'\n",
    "filepath = r'ondas/gustavo/GEBCO_2019'\n",
    "output_filename = 'gebco_2019.xyz'\n",
    "\n",
    "lat_i = -37\n",
    "lat_f = -24\n",
    "lon_i = -55\n",
    "lon_f = -45\n"
   ]
  },
  {
   "cell_type": "code",
   "execution_count": 3,
   "metadata": {},
   "outputs": [
    {
     "name": "stdout",
     "output_type": "stream",
     "text": [
      "/home/ceco\n",
      "/home/ceco/ondas/gustavo/GEBCO_2019\n"
     ]
    },
    {
     "data": {
      "text/plain": [
       "<bound method ImplementsDatasetReduce._reduce_method.<locals>.wrapped_func of <xarray.Dataset>\n",
       "Dimensions:    (lat: 43200, lon: 86400)\n",
       "Coordinates:\n",
       "  * lon        (lon) float64 -180.0 -180.0 -180.0 -180.0 ... 180.0 180.0 180.0\n",
       "  * lat        (lat) float64 -90.0 -89.99 -89.99 -89.99 ... 89.99 89.99 90.0\n",
       "Data variables:\n",
       "    elevation  (lat, lon) float32 ...\n",
       "Attributes:\n",
       "    Conventions:  CF-1.6\n",
       "    title:        The GEBCO_2019 Grid - a continuous terrain model for oceans...\n",
       "    institution:  On behalf of the General Bathymetric Chart of the Oceans (G...\n",
       "    source:       The GEBCO_2019 Grid is the latest global bathymetric produc...\n",
       "    history:      Information on the development of the data set and the sour...\n",
       "    references:   DOI: 10.5285/836f016a-33be-6ddc-e053-6c86abc0788e\n",
       "    comment:      The data in the GEBCO_2019 Grid should not be used for navi...\n",
       "    node_offset:  1.0>"
      ]
     },
     "execution_count": 3,
     "metadata": {},
     "output_type": "execute_result"
    }
   ],
   "source": [
    "# Open NetCDF file with xarray\n",
    "%cd ..\n",
    "%cd $filepath\n",
    "\n",
    "DS = xr.open_dataset(filename)\n",
    "DS.var"
   ]
  },
  {
   "cell_type": "code",
   "execution_count": 4,
   "metadata": {},
   "outputs": [],
   "source": [
    "# Apply the crop to the selected area\n",
    "\n",
    "DS = DS.loc[dict(lon=slice(lon_i, lon_f))]\n",
    "DS = DS.loc[dict(lat=slice(lat_i, lat_f))]"
   ]
  },
  {
   "cell_type": "code",
   "execution_count": 5,
   "metadata": {},
   "outputs": [],
   "source": [
    "# Separate coordinates and variables. Keep just their values\n",
    "\n",
    "lat = DS.lat.values\n",
    "lon = DS.lon.values\n",
    "bat = DS.elevation.values\n",
    "\n",
    "xr.Dataset.close(DS)"
   ]
  },
  {
   "cell_type": "code",
   "execution_count": 6,
   "metadata": {},
   "outputs": [],
   "source": [
    "# Create DataFrame and a numpy array\n",
    "\n",
    "bat_df = pd.DataFrame(data=bat, index=lat, columns=lon)\n",
    "bat_array = bat_df.values\n"
   ]
  },
  {
   "cell_type": "code",
   "execution_count": 7,
   "metadata": {},
   "outputs": [],
   "source": [
    "# Change the array to a vector\n",
    "\n",
    "col_length = bat_array.shape[0]*bat_array.shape[1]\n",
    "bat_col = np.concatenate(bat_array.reshape(col_length,1))\n",
    "bat_col = bat_col.tolist()"
   ]
  },
  {
   "cell_type": "code",
   "execution_count": 8,
   "metadata": {},
   "outputs": [],
   "source": [
    "# Change the indexes to vectors\n",
    "\n",
    "lat_list = list(lat)\n",
    "lon_list = list(lon)"
   ]
  },
  {
   "cell_type": "code",
   "execution_count": 9,
   "metadata": {},
   "outputs": [],
   "source": [
    "# Organise the coordinates to match xyz columns\n",
    "\n",
    "lon_col = lon_list*bat_array.shape[0]\n",
    "lat_col = [ele for ele in lat_list for i in range(bat_array.shape[1])]"
   ]
  },
  {
   "cell_type": "code",
   "execution_count": 10,
   "metadata": {},
   "outputs": [],
   "source": [
    "# Dictionary for creating pandas dataframe in xyz style\n",
    "\n",
    "bat_xyz = {'X':lon_col, 'Y':lat_col, 'Z':bat_col}\n",
    "bat_xyz = pd.DataFrame(bat_xyz)\n"
   ]
  },
  {
   "cell_type": "code",
   "execution_count": 11,
   "metadata": {},
   "outputs": [],
   "source": [
    "# Save dataframe to .xyz file\n",
    "\n",
    "bat_xyz.to_csv(output_filename, index=False, \n",
    "               header=False, sep=' ', float_format='%.7E')"
   ]
  },
  {
   "cell_type": "code",
   "execution_count": null,
   "metadata": {},
   "outputs": [],
   "source": [
    "# Set the width of the columns of the file so they look tidy\n",
    "\n",
    "dep = pd.read_csv(output_filename, sep='\\s+', header=None, dtype='str')\n",
    "\n",
    "columns = list(dep) \n",
    "\n",
    "for column in columns:\n",
    "    dep[column] = dep[column].str.pad(15, side='left', fillchar=' ')\n",
    "\n",
    "dep[0] = dep[0].str.pad(16, side='left', fillchar=' ')\n",
    "\n",
    "import csv\n",
    "\n",
    "dep.to_csv(output_filename, index=False, \n",
    "           header=False, sep=',')\n",
    "\n",
    "fin = open(output_filename, \"rt\")\n",
    "data = fin.read()\n",
    "data = data.replace(',', ' ')\n",
    "data = data.replace('\"', '')\n",
    "fin.close()\n",
    "\n",
    "fin = open(output_filename, \"wt\")\n",
    "fin.write(data)\n",
    "fin.close()"
   ]
  },
  {
   "cell_type": "code",
   "execution_count": null,
   "metadata": {},
   "outputs": [],
   "source": []
  }
 ],
 "metadata": {
  "kernelspec": {
   "display_name": "Python 3",
   "language": "python",
   "name": "python3"
  },
  "language_info": {
   "codemirror_mode": {
    "name": "ipython",
    "version": 3
   },
   "file_extension": ".py",
   "mimetype": "text/x-python",
   "name": "python",
   "nbconvert_exporter": "python",
   "pygments_lexer": "ipython3",
   "version": "3.7.1"
  }
 },
 "nbformat": 4,
 "nbformat_minor": 2
}

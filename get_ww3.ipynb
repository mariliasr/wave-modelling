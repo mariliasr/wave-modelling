{
 "cells": [
  {
   "cell_type": "markdown",
   "metadata": {},
   "source": [
    "### Download Wave Watch 3 dataset"
   ]
  },
  {
   "cell_type": "code",
   "execution_count": 81,
   "metadata": {},
   "outputs": [],
   "source": [
    "from datetime import datetime\n",
    "import pandas as pd\n",
    "import logging\n",
    "import wget"
   ]
  },
  {
   "cell_type": "code",
   "execution_count": 45,
   "metadata": {},
   "outputs": [],
   "source": [
    "startDate = datetime.strptime('2005-01-01', '%Y-%m-%d')\n",
    "endDate = datetime.strptime('2019-01-01', '%Y-%m-%d')\n",
    "startYear = 2005\n",
    "endYear = 2018\n",
    "\n",
    "output_path = r'C:\\Users\\Mariliasr\\OneDrive\\Documentos\\_UFRGS\\Mestrado\\Dissert\\datasets\\ww3'"
   ]
  },
  {
   "cell_type": "code",
   "execution_count": 49,
   "metadata": {},
   "outputs": [
    {
     "data": {
      "text/plain": [
       "['200501',\n",
       " '200502',\n",
       " '200503',\n",
       " '200504',\n",
       " '200505',\n",
       " '200506',\n",
       " '200507',\n",
       " '200508',\n",
       " '200509',\n",
       " '200510',\n",
       " '200511',\n",
       " '200512',\n",
       " '200601',\n",
       " '200602',\n",
       " '200603',\n",
       " '200604',\n",
       " '200605',\n",
       " '200606',\n",
       " '200607',\n",
       " '200608',\n",
       " '200609',\n",
       " '200610',\n",
       " '200611',\n",
       " '200612',\n",
       " '200701',\n",
       " '200702',\n",
       " '200703',\n",
       " '200704',\n",
       " '200705',\n",
       " '200706',\n",
       " '200707',\n",
       " '200708',\n",
       " '200709',\n",
       " '200710',\n",
       " '200711',\n",
       " '200712',\n",
       " '200801',\n",
       " '200802',\n",
       " '200803',\n",
       " '200804',\n",
       " '200805',\n",
       " '200806',\n",
       " '200807',\n",
       " '200808',\n",
       " '200809',\n",
       " '200810',\n",
       " '200811',\n",
       " '200812',\n",
       " '200901',\n",
       " '200902',\n",
       " '200903',\n",
       " '200904',\n",
       " '200905',\n",
       " '200906',\n",
       " '200907',\n",
       " '200908',\n",
       " '200909',\n",
       " '200910',\n",
       " '200911',\n",
       " '200912',\n",
       " '201001',\n",
       " '201002',\n",
       " '201003',\n",
       " '201004',\n",
       " '201005',\n",
       " '201006',\n",
       " '201007',\n",
       " '201008',\n",
       " '201009',\n",
       " '201010',\n",
       " '201011',\n",
       " '201012',\n",
       " '201101',\n",
       " '201102',\n",
       " '201103',\n",
       " '201104',\n",
       " '201105',\n",
       " '201106',\n",
       " '201107',\n",
       " '201108',\n",
       " '201109',\n",
       " '201110',\n",
       " '201111',\n",
       " '201112',\n",
       " '201201',\n",
       " '201202',\n",
       " '201203',\n",
       " '201204',\n",
       " '201205',\n",
       " '201206',\n",
       " '201207',\n",
       " '201208',\n",
       " '201209',\n",
       " '201210',\n",
       " '201211',\n",
       " '201212',\n",
       " '201301',\n",
       " '201302',\n",
       " '201303',\n",
       " '201304',\n",
       " '201305',\n",
       " '201306',\n",
       " '201307',\n",
       " '201308',\n",
       " '201309',\n",
       " '201310',\n",
       " '201311',\n",
       " '201312',\n",
       " '201401',\n",
       " '201402',\n",
       " '201403',\n",
       " '201404',\n",
       " '201405',\n",
       " '201406',\n",
       " '201407',\n",
       " '201408',\n",
       " '201409',\n",
       " '201410',\n",
       " '201411',\n",
       " '201412',\n",
       " '201501',\n",
       " '201502',\n",
       " '201503',\n",
       " '201504',\n",
       " '201505',\n",
       " '201506',\n",
       " '201507',\n",
       " '201508',\n",
       " '201509',\n",
       " '201510',\n",
       " '201511',\n",
       " '201512',\n",
       " '201601',\n",
       " '201602',\n",
       " '201603',\n",
       " '201604',\n",
       " '201605',\n",
       " '201606',\n",
       " '201607',\n",
       " '201608',\n",
       " '201609',\n",
       " '201610',\n",
       " '201611',\n",
       " '201612',\n",
       " '201701',\n",
       " '201702',\n",
       " '201703',\n",
       " '201704',\n",
       " '201705',\n",
       " '201706',\n",
       " '201707',\n",
       " '201708',\n",
       " '201709',\n",
       " '201710',\n",
       " '201711',\n",
       " '201712',\n",
       " '201801',\n",
       " '201802',\n",
       " '201803',\n",
       " '201804',\n",
       " '201805',\n",
       " '201806',\n",
       " '201807',\n",
       " '201808',\n",
       " '201809',\n",
       " '201810',\n",
       " '201811',\n",
       " '201812']"
      ]
     },
     "execution_count": 49,
     "metadata": {},
     "output_type": "execute_result"
    }
   ],
   "source": [
    "month = ['01', '02', '03', '04', '05', '06',\n",
    "         '07', '08', '09', '10', '11', '12']\n",
    "\n",
    "month_list = month*((endYear-startYear)+1)\n",
    "\n",
    "years = list(range(startDate.year, endDate.year))\n",
    "\n",
    "year_list = [year for year in years for i in range(12)]\n",
    "\n",
    "df = pd.DataFrame(\n",
    "    {'years': year_list,\n",
    "     'months': month_list,\n",
    "     'days': month_list\n",
    "    })\n",
    "\n",
    "datetime = pd.to_datetime(df)\n",
    "df['datetime'] = datetime.dt.strftime('%Y%m')\n",
    "\n",
    "date_list = df['datetime'].tolist()\n",
    "date_list"
   ]
  },
  {
   "cell_type": "code",
   "execution_count": 59,
   "metadata": {},
   "outputs": [
    {
     "name": "stdout",
     "output_type": "stream",
     "text": [
      "C:\\Users\\Mariliasr\\OneDrive\\Documentos\\_UFRGS\\Mestrado\\Dissert\\datasets\\ww3\n"
     ]
    }
   ],
   "source": [
    "%cd $output_path"
   ]
  },
  {
   "cell_type": "code",
   "execution_count": 121,
   "metadata": {},
   "outputs": [],
   "source": [
    "# Open and write to file\n",
    "\n",
    "file1 = open(\"downloadlist.txt\",\"w\") \n",
    "\n",
    "for timepoint in range(len(date_list)):\n",
    "    file1.write(r'''ftp://polar.ncep.noaa.gov/pub/history/waves/multi_1/{}/gribs/multi_1.glo_30m.hs.{}.grb2,C:\\Users\\Mariliasr\\OneDrive\\Documentos\\_UFRGS\\Mestrado\\Dissert\\datasets\\ww3\\hs\\{}.grb2\n",
    "'''.format(date_list[timepoint], date_list[timepoint], date_list[timepoint]))\n",
    "\n",
    "file1.close() #to change file access modes "
   ]
  },
  {
   "cell_type": "code",
   "execution_count": 135,
   "metadata": {},
   "outputs": [
    {
     "data": {
      "text/plain": [
       "'ftp://polar.ncep.noaa.gov/pub/history/waves/multi_1/200502/gribs/multi_1.glo_30m.hs.200502.grb2'"
      ]
     },
     "execution_count": 135,
     "metadata": {},
     "output_type": "execute_result"
    }
   ],
   "source": [
    "urls = pd.read_csv(\"downloadlist.txt\", header=0)\n",
    "urls = urls.values\n",
    "\n",
    "urls[0,0]"
   ]
  },
  {
   "cell_type": "code",
   "execution_count": 136,
   "metadata": {},
   "outputs": [
    {
     "name": "stdout",
     "output_type": "stream",
     "text": [
      "100% [........................................................................] 54355000 / 54355000"
     ]
    }
   ],
   "source": [
    "# Download files\n",
    "\n",
    "for ele in range(len(urls)):\n",
    "    wget.download(urls[ele, 0], urls[ele, 1])"
   ]
  },
  {
   "cell_type": "code",
   "execution_count": 137,
   "metadata": {},
   "outputs": [],
   "source": [
    "# Open and write to file\n",
    "\n",
    "file2 = open(\"downloadlist_tp.txt\",\"w\") \n",
    "\n",
    "for timepoint in range(len(date_list)):\n",
    "    file2.write(r'''ftp://polar.ncep.noaa.gov/pub/history/waves/multi_1/{}/gribs/multi_1.glo_30m.tp.{}.grb2,C:\\Users\\Mariliasr\\OneDrive\\Documentos\\_UFRGS\\Mestrado\\Dissert\\datasets\\ww3\\tp\\{}.grb2\n",
    "'''.format(date_list[timepoint], date_list[timepoint], date_list[timepoint]))\n",
    "\n",
    "file2.close() #to change file access modes "
   ]
  },
  {
   "cell_type": "code",
   "execution_count": 139,
   "metadata": {},
   "outputs": [
    {
     "name": "stdout",
     "output_type": "stream",
     "text": [
      "100% [........................................................................] 58651072 / 58651072"
     ]
    }
   ],
   "source": [
    "urls2 = pd.read_csv(\"downloadlist_tp.txt\", header=0)\n",
    "urls2 = urls2.values\n",
    "\n",
    "# Download files\n",
    "\n",
    "for ele in range(len(urls2)):\n",
    "    wget.download(urls2[ele, 0], urls2[ele, 1])"
   ]
  },
  {
   "cell_type": "code",
   "execution_count": 142,
   "metadata": {},
   "outputs": [],
   "source": [
    "# Open and write to file\n",
    "\n",
    "file3 = open(\"downloadlist_hsMD5.txt\",\"w\") \n",
    "\n",
    "for timepoint in range(len(date_list)):\n",
    "    file3.write(r'''ftp://polar.ncep.noaa.gov/pub/history/waves/multi_1/{}/gribs/multi_1.glo_30m.hs.{}.grb2.MD5,C:\\Users\\Mariliasr\\OneDrive\\Documentos\\_UFRGS\\Mestrado\\Dissert\\datasets\\ww3\\hs\\{}.grb2.MD5\n",
    "'''.format(date_list[timepoint], date_list[timepoint], date_list[timepoint]))\n",
    "\n",
    "file3.close() #to change file access modes "
   ]
  },
  {
   "cell_type": "code",
   "execution_count": null,
   "metadata": {},
   "outputs": [],
   "source": []
  }
 ],
 "metadata": {
  "kernelspec": {
   "display_name": "Python 3",
   "language": "python",
   "name": "python3"
  },
  "language_info": {
   "codemirror_mode": {
    "name": "ipython",
    "version": 3
   },
   "file_extension": ".py",
   "mimetype": "text/x-python",
   "name": "python",
   "nbconvert_exporter": "python",
   "pygments_lexer": "ipython3",
   "version": "3.7.1"
  }
 },
 "nbformat": 4,
 "nbformat_minor": 2
}

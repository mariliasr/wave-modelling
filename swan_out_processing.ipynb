{
 "cells": [
  {
   "cell_type": "markdown",
   "metadata": {},
   "source": [
    "### Extract timeseries from SWAN output files"
   ]
  },
  {
   "cell_type": "code",
   "execution_count": 27,
   "metadata": {},
   "outputs": [],
   "source": [
    "import scipy.io as sio\n",
    "import numpy as np\n",
    "import xarray as xr\n",
    "import pandas as pd\n",
    "import matplotlib.pyplot as plt"
   ]
  },
  {
   "cell_type": "code",
   "execution_count": 98,
   "metadata": {},
   "outputs": [],
   "source": [
    "# Define variables\n",
    "\n",
    "par = 'cart_mdir'\n",
    "par_file = 'hsig wave vector (mean direction).mat'\n",
    "par_grid = 'wave grid.mat'\n",
    "\n",
    "filepath_swan = r'C:\\Users\\Mariliasr\\OneDrive\\Documentos\\_UFRGS\\Mestrado\\Dissert\\datasets\\ouputs_swan\\2015_csiro_era5'\n",
    "\n",
    "\n",
    "filepath_buoy1 = r'C:\\Users\\Mariliasr\\OneDrive\\Documentos\\_UFRGS\\Mestrado\\Dissert\\datasets\\ondografos\\pnboia'\n",
    "buoy1_file = r'itajai.csv'\n",
    "buoy1_loc = 'Itajaí (PNBOIA)'\n",
    "buoy1_lat = -27.00\n",
    "buoy1_lon = -47.00\n",
    "dtb1 = '''Período:\n",
    "Abr/09 - Out/09\n",
    "Fev/11 - Out/12\n",
    "Fev/13 - Out/13\n",
    "Nov/14 - Dez/15\n",
    "Abr/16 - Jul/17'''\n",
    "\n",
    "filepath_buoy2 = r'C:\\Users\\Mariliasr\\OneDrive\\Documentos\\_UFRGS\\Mestrado\\Dissert\\datasets\\ondografos\\pnboia'\n",
    "buoy2_file = r'riogrande.csv'\n",
    "buoy2_loc = 'Rio Grande (PNBOIA)'\n",
    "buoy2_lat = -31.50\n",
    "buoy2_lon = -49.50\n",
    "dtb2 = '''Período:\n",
    "Abr/09 - Fev/11\n",
    "Fev/11 - Jul/11\n",
    "Jan/12 - Jan/13\n",
    "Jun/13 - Dez/18'''\n",
    "\n",
    "filepath_buoy3 = r'C:\\Users\\Mariliasr\\OneDrive\\Documentos\\_UFRGS\\Mestrado\\Dissert\\datasets\\ondografos\\redeondas\\florianopolis'\n",
    "buoy3_loc = 'Florianópolis (Rede Ondas)'\n",
    "buoy3_lat = -27.50\n",
    "buoy3_lon = -48.00\n",
    "dtb3 = '''Período:\n",
    "Mar/02 - Set/03\n",
    "Mai/04 - Jun/04'''\n",
    "\n",
    "filepath_buoy4 = r'C:\\Users\\Mariliasr\\OneDrive\\Documentos\\_UFRGS\\Mestrado\\Dissert\\datasets\\ondografos\\redeondas\\tramandai'\n",
    "buoy4_loc = 'Tramandaí (Rede Ondas)'\n",
    "buoy4_lat = -30.00\n",
    "buoy4_lon = -49.50\n",
    "dtb4 = '''Período:\n",
    "Nov/06 - Set/07\n",
    "Dez/13 - Mar/14\n",
    "Jun/14 - Mai/15\n",
    "Jan/16 - Jul/16'''\n",
    "\n",
    "buoy_locs = [buoy1_loc, buoy2_loc, \n",
    "             buoy3_loc, buoy4_loc]\n",
    "\n",
    "coords_tpar = [[buoy1_lon, buoy1_lat],\n",
    "               [buoy2_lon, buoy2_lat],\n",
    "               [buoy3_lon, buoy3_lat],\n",
    "               [buoy4_lon, buoy4_lat]]\n",
    "\n",
    "coords_tpar = np.array(coords_tpar)\n"
   ]
  },
  {
   "cell_type": "code",
   "execution_count": 15,
   "metadata": {},
   "outputs": [
    {
     "name": "stdout",
     "output_type": "stream",
     "text": [
      "C:\\Users\\Mariliasr\\OneDrive\\Documentos\\_UFRGS\\Mestrado\\Dissert\\datasets\\ouputs_swan\\2005_csiro_era5\n"
     ]
    }
   ],
   "source": [
    "%cd $filepath_swan"
   ]
  },
  {
   "cell_type": "code",
   "execution_count": 16,
   "metadata": {},
   "outputs": [
    {
     "data": {
      "text/html": [
       "<div>\n",
       "<style scoped>\n",
       "    .dataframe tbody tr th:only-of-type {\n",
       "        vertical-align: middle;\n",
       "    }\n",
       "\n",
       "    .dataframe tbody tr th {\n",
       "        vertical-align: top;\n",
       "    }\n",
       "\n",
       "    .dataframe thead th {\n",
       "        text-align: right;\n",
       "    }\n",
       "</style>\n",
       "<table border=\"1\" class=\"dataframe\">\n",
       "  <thead>\n",
       "    <tr style=\"text-align: right;\">\n",
       "      <th></th>\n",
       "      <th>X</th>\n",
       "      <th>Y</th>\n",
       "      <th>XUnits</th>\n",
       "      <th>YUnits</th>\n",
       "      <th>Time</th>\n",
       "      <th>Name</th>\n",
       "      <th>Units</th>\n",
       "    </tr>\n",
       "  </thead>\n",
       "  <tbody>\n",
       "    <tr>\n",
       "      <th>0</th>\n",
       "      <td>[[-55.647029876708984, -55.634552001953125, -5...</td>\n",
       "      <td>[[-34.284217834472656, -34.26407241821289, -34...</td>\n",
       "      <td>[deg]</td>\n",
       "      <td>[deg]</td>\n",
       "      <td>[]</td>\n",
       "      <td>[wave grid]</td>\n",
       "      <td>[]</td>\n",
       "    </tr>\n",
       "  </tbody>\n",
       "</table>\n",
       "</div>"
      ],
      "text/plain": [
       "                                                   X  \\\n",
       "0  [[-55.647029876708984, -55.634552001953125, -5...   \n",
       "\n",
       "                                                   Y XUnits YUnits Time  \\\n",
       "0  [[-34.284217834472656, -34.26407241821289, -34...  [deg]  [deg]   []   \n",
       "\n",
       "          Name Units  \n",
       "0  [wave grid]    []  "
      ]
     },
     "execution_count": 16,
     "metadata": {},
     "output_type": "execute_result"
    }
   ],
   "source": [
    "# Load grid daa to extract indexes\n",
    "swan_grid = sio.loadmat(par_grid)\n",
    "\n",
    "# Check how the data is organised\n",
    "pd.DataFrame(swan_grid['data'][0])"
   ]
  },
  {
   "cell_type": "code",
   "execution_count": 17,
   "metadata": {},
   "outputs": [
    {
     "data": {
      "text/html": [
       "<div>\n",
       "<style scoped>\n",
       "    .dataframe tbody tr th:only-of-type {\n",
       "        vertical-align: middle;\n",
       "    }\n",
       "\n",
       "    .dataframe tbody tr th {\n",
       "        vertical-align: top;\n",
       "    }\n",
       "\n",
       "    .dataframe thead th {\n",
       "        text-align: right;\n",
       "    }\n",
       "</style>\n",
       "<table border=\"1\" class=\"dataframe\">\n",
       "  <thead>\n",
       "    <tr style=\"text-align: right;\">\n",
       "      <th></th>\n",
       "      <th>0</th>\n",
       "      <th>1</th>\n",
       "      <th>2</th>\n",
       "      <th>3</th>\n",
       "      <th>4</th>\n",
       "      <th>5</th>\n",
       "      <th>6</th>\n",
       "      <th>7</th>\n",
       "      <th>8</th>\n",
       "      <th>9</th>\n",
       "      <th>...</th>\n",
       "      <th>369</th>\n",
       "      <th>370</th>\n",
       "      <th>371</th>\n",
       "      <th>372</th>\n",
       "      <th>373</th>\n",
       "      <th>374</th>\n",
       "      <th>375</th>\n",
       "      <th>376</th>\n",
       "      <th>377</th>\n",
       "      <th>378</th>\n",
       "    </tr>\n",
       "  </thead>\n",
       "  <tbody>\n",
       "    <tr>\n",
       "      <th>0</th>\n",
       "      <td>-55.647030</td>\n",
       "      <td>-55.634552</td>\n",
       "      <td>-55.622059</td>\n",
       "      <td>-55.609528</td>\n",
       "      <td>-55.596943</td>\n",
       "      <td>-55.584282</td>\n",
       "      <td>-55.571533</td>\n",
       "      <td>-55.558670</td>\n",
       "      <td>-55.545685</td>\n",
       "      <td>-55.532551</td>\n",
       "      <td>...</td>\n",
       "      <td>-49.608479</td>\n",
       "      <td>-49.594425</td>\n",
       "      <td>-49.580441</td>\n",
       "      <td>-49.566521</td>\n",
       "      <td>-49.552654</td>\n",
       "      <td>-49.538834</td>\n",
       "      <td>-49.525047</td>\n",
       "      <td>-49.511288</td>\n",
       "      <td>-49.497543</td>\n",
       "      <td>-49.483810</td>\n",
       "    </tr>\n",
       "    <tr>\n",
       "      <th>1</th>\n",
       "      <td>-55.615288</td>\n",
       "      <td>-55.602798</td>\n",
       "      <td>-55.590286</td>\n",
       "      <td>-55.577744</td>\n",
       "      <td>-55.565144</td>\n",
       "      <td>-55.552471</td>\n",
       "      <td>-55.539707</td>\n",
       "      <td>-55.526836</td>\n",
       "      <td>-55.513840</td>\n",
       "      <td>-55.500698</td>\n",
       "      <td>...</td>\n",
       "      <td>-49.556419</td>\n",
       "      <td>-49.541824</td>\n",
       "      <td>-49.527393</td>\n",
       "      <td>-49.513092</td>\n",
       "      <td>-49.498898</td>\n",
       "      <td>-49.484787</td>\n",
       "      <td>-49.470753</td>\n",
       "      <td>-49.456772</td>\n",
       "      <td>-49.442833</td>\n",
       "      <td>-49.428913</td>\n",
       "    </tr>\n",
       "    <tr>\n",
       "      <th>2</th>\n",
       "      <td>-55.583481</td>\n",
       "      <td>-55.570976</td>\n",
       "      <td>-55.558453</td>\n",
       "      <td>-55.545891</td>\n",
       "      <td>-55.533276</td>\n",
       "      <td>-55.520592</td>\n",
       "      <td>-55.507816</td>\n",
       "      <td>-55.494934</td>\n",
       "      <td>-55.481922</td>\n",
       "      <td>-55.468773</td>\n",
       "      <td>...</td>\n",
       "      <td>-49.504395</td>\n",
       "      <td>-49.489269</td>\n",
       "      <td>-49.474396</td>\n",
       "      <td>-49.459717</td>\n",
       "      <td>-49.445194</td>\n",
       "      <td>-49.430801</td>\n",
       "      <td>-49.416519</td>\n",
       "      <td>-49.402321</td>\n",
       "      <td>-49.388184</td>\n",
       "      <td>-49.374077</td>\n",
       "    </tr>\n",
       "    <tr>\n",
       "      <th>3</th>\n",
       "      <td>-55.551548</td>\n",
       "      <td>-55.539024</td>\n",
       "      <td>-55.526482</td>\n",
       "      <td>-55.513905</td>\n",
       "      <td>-55.501278</td>\n",
       "      <td>-55.488575</td>\n",
       "      <td>-55.475784</td>\n",
       "      <td>-55.462887</td>\n",
       "      <td>-55.449867</td>\n",
       "      <td>-55.436707</td>\n",
       "      <td>...</td>\n",
       "      <td>-49.452442</td>\n",
       "      <td>-49.436798</td>\n",
       "      <td>-49.421490</td>\n",
       "      <td>-49.406448</td>\n",
       "      <td>-49.391605</td>\n",
       "      <td>-49.376938</td>\n",
       "      <td>-49.362408</td>\n",
       "      <td>-49.347996</td>\n",
       "      <td>-49.333664</td>\n",
       "      <td>-49.319370</td>\n",
       "    </tr>\n",
       "    <tr>\n",
       "      <th>4</th>\n",
       "      <td>-55.519417</td>\n",
       "      <td>-55.506874</td>\n",
       "      <td>-55.494316</td>\n",
       "      <td>-55.481720</td>\n",
       "      <td>-55.469074</td>\n",
       "      <td>-55.456356</td>\n",
       "      <td>-55.443550</td>\n",
       "      <td>-55.430637</td>\n",
       "      <td>-55.417599</td>\n",
       "      <td>-55.404427</td>\n",
       "      <td>...</td>\n",
       "      <td>-49.400593</td>\n",
       "      <td>-49.384457</td>\n",
       "      <td>-49.368729</td>\n",
       "      <td>-49.353333</td>\n",
       "      <td>-49.338181</td>\n",
       "      <td>-49.323238</td>\n",
       "      <td>-49.308479</td>\n",
       "      <td>-49.293858</td>\n",
       "      <td>-49.279335</td>\n",
       "      <td>-49.264858</td>\n",
       "    </tr>\n",
       "  </tbody>\n",
       "</table>\n",
       "<p>5 rows × 379 columns</p>\n",
       "</div>"
      ],
      "text/plain": [
       "         0          1          2          3          4          5    \\\n",
       "0 -55.647030 -55.634552 -55.622059 -55.609528 -55.596943 -55.584282   \n",
       "1 -55.615288 -55.602798 -55.590286 -55.577744 -55.565144 -55.552471   \n",
       "2 -55.583481 -55.570976 -55.558453 -55.545891 -55.533276 -55.520592   \n",
       "3 -55.551548 -55.539024 -55.526482 -55.513905 -55.501278 -55.488575   \n",
       "4 -55.519417 -55.506874 -55.494316 -55.481720 -55.469074 -55.456356   \n",
       "\n",
       "         6          7          8          9      ...            369  \\\n",
       "0 -55.571533 -55.558670 -55.545685 -55.532551    ...     -49.608479   \n",
       "1 -55.539707 -55.526836 -55.513840 -55.500698    ...     -49.556419   \n",
       "2 -55.507816 -55.494934 -55.481922 -55.468773    ...     -49.504395   \n",
       "3 -55.475784 -55.462887 -55.449867 -55.436707    ...     -49.452442   \n",
       "4 -55.443550 -55.430637 -55.417599 -55.404427    ...     -49.400593   \n",
       "\n",
       "         370        371        372        373        374        375  \\\n",
       "0 -49.594425 -49.580441 -49.566521 -49.552654 -49.538834 -49.525047   \n",
       "1 -49.541824 -49.527393 -49.513092 -49.498898 -49.484787 -49.470753   \n",
       "2 -49.489269 -49.474396 -49.459717 -49.445194 -49.430801 -49.416519   \n",
       "3 -49.436798 -49.421490 -49.406448 -49.391605 -49.376938 -49.362408   \n",
       "4 -49.384457 -49.368729 -49.353333 -49.338181 -49.323238 -49.308479   \n",
       "\n",
       "         376        377        378  \n",
       "0 -49.511288 -49.497543 -49.483810  \n",
       "1 -49.456772 -49.442833 -49.428913  \n",
       "2 -49.402321 -49.388184 -49.374077  \n",
       "3 -49.347996 -49.333664 -49.319370  \n",
       "4 -49.293858 -49.279335 -49.264858  \n",
       "\n",
       "[5 rows x 379 columns]"
      ]
     },
     "execution_count": 17,
     "metadata": {},
     "output_type": "execute_result"
    }
   ],
   "source": [
    "pd.DataFrame(swan_grid['data'][0][0][0]).head(5)"
   ]
  },
  {
   "cell_type": "code",
   "execution_count": 18,
   "metadata": {},
   "outputs": [
    {
     "data": {
      "image/png": "[encoded data removed]",
      "text/plain": [
       "<Figure size 432x288 with 1 Axes>"
      ]
     },
     "metadata": {
      "needs_background": "light"
     },
     "output_type": "display_data"
    }
   ],
   "source": [
    "# Plot the grid with the points to be extracted\n",
    "\n",
    "xx = swan_grid['data'][0][0][0]\n",
    "yy = swan_grid['data'][0][0][1]\n",
    "\n",
    "\n",
    "plt.scatter(xx, yy)\n",
    "plt.scatter(buoy1_lon, buoy1_lat)\n",
    "plt.scatter(buoy2_lon, buoy2_lat)\n",
    "plt.scatter(buoy3_lon, buoy3_lat)\n",
    "plt.scatter(buoy4_lon, buoy4_lat)\n",
    "plt.show()"
   ]
  },
  {
   "cell_type": "code",
   "execution_count": 19,
   "metadata": {},
   "outputs": [],
   "source": [
    "# Create the coordinate grid\n",
    "coordinate_grid = np.array([xx, yy])\n",
    "coordinate_grid = coordinate_grid.transpose(1,2,0)"
   ]
  },
  {
   "cell_type": "code",
   "execution_count": 20,
   "metadata": {},
   "outputs": [],
   "source": [
    "# Create list with the indexes of buoys\n",
    "\n",
    "buoy_indexes = []\n",
    "for loc in range(len(coords_tpar)):\n",
    "    xx_index = np.logical_and(xx < coords_tpar[loc][0]+0.03, \n",
    "                              xx > coords_tpar[loc][0]-0.03)\n",
    "    yy_index = np.logical_and(yy < coords_tpar[loc][1]+0.03, \n",
    "                              yy > coords_tpar[loc][1]-0.03)\n",
    "    xx_index = list(zip(np.where(xx_index)[0],\n",
    "                        np.where(xx_index)[1]))\n",
    "    yy_index = list(zip(np.where(yy_index)[0],\n",
    "                        np.where(yy_index)[1]))\n",
    "    index = list(set(xx_index).intersection(yy_index))\n",
    "    buoy_indexes.append(index)\n"
   ]
  },
  {
   "cell_type": "code",
   "execution_count": 21,
   "metadata": {},
   "outputs": [
    {
     "data": {
      "text/plain": [
       "[[(74, 334), (73, 334), (73, 335)],\n",
       " [(87, 172), (86, 173)],\n",
       " [(57, 301), (57, 302)],\n",
       " [(50, 215), (51, 215), (51, 214)]]"
      ]
     },
     "execution_count": 21,
     "metadata": {},
     "output_type": "execute_result"
    }
   ],
   "source": [
    "buoy_indexes"
   ]
  },
  {
   "cell_type": "code",
   "execution_count": 22,
   "metadata": {},
   "outputs": [],
   "source": [
    "itajai_index = [buoy_indexes[0][0][0],\n",
    "                buoy_indexes[0][0][1]]\n",
    "rg_index = [buoy_indexes[1][0][0],\n",
    "            buoy_indexes[1][0][1]]\n",
    "floripa_index = [buoy_indexes[2][0][0],\n",
    "                 buoy_indexes[2][0][1]]\n",
    "tramanda_index = [buoy_indexes[3][0][0],\n",
    "                  buoy_indexes[3][0][1]]"
   ]
  },
  {
   "cell_type": "code",
   "execution_count": 99,
   "metadata": {},
   "outputs": [
    {
     "name": "stdout",
     "output_type": "stream",
     "text": [
      "C:\\Users\\Mariliasr\\OneDrive\\Documentos\\_UFRGS\\Mestrado\\Dissert\\datasets\\ouputs_swan\\2015_csiro_era5\n"
     ]
    }
   ],
   "source": [
    "%cd $filepath_swan\n",
    "par_mat = sio.loadmat(par_file)"
   ]
  },
  {
   "cell_type": "code",
   "execution_count": 46,
   "metadata": {},
   "outputs": [
    {
     "data": {
      "text/html": [
       "<div>\n",
       "<style scoped>\n",
       "    .dataframe tbody tr th:only-of-type {\n",
       "        vertical-align: middle;\n",
       "    }\n",
       "\n",
       "    .dataframe tbody tr th {\n",
       "        vertical-align: top;\n",
       "    }\n",
       "\n",
       "    .dataframe thead th {\n",
       "        text-align: right;\n",
       "    }\n",
       "</style>\n",
       "<table border=\"1\" class=\"dataframe\">\n",
       "  <thead>\n",
       "    <tr style=\"text-align: right;\">\n",
       "      <th></th>\n",
       "      <th>X</th>\n",
       "      <th>Y</th>\n",
       "      <th>XUnits</th>\n",
       "      <th>YUnits</th>\n",
       "      <th>Time</th>\n",
       "      <th>Name</th>\n",
       "      <th>Units</th>\n",
       "      <th>Val</th>\n",
       "    </tr>\n",
       "  </thead>\n",
       "  <tbody>\n",
       "    <tr>\n",
       "      <th>0</th>\n",
       "      <td>[[-55.647029876708984, -55.647029876708984, -5...</td>\n",
       "      <td>[[-34.284217834472656, -34.284217834472656, -3...</td>\n",
       "      <td>[deg]</td>\n",
       "      <td>[deg]</td>\n",
       "      <td>[[732313.0], [732313.0416666666], [732313.0833...</td>\n",
       "      <td>[hsig wave vector (mean direction), angle]</td>\n",
       "      <td>[radians]</td>\n",
       "      <td>[[[-0.0, -0.0, -0.0, -0.0, -0.0, -0.0, -0.0, -...</td>\n",
       "    </tr>\n",
       "  </tbody>\n",
       "</table>\n",
       "</div>"
      ],
      "text/plain": [
       "                                                   X  \\\n",
       "0  [[-55.647029876708984, -55.647029876708984, -5...   \n",
       "\n",
       "                                                   Y XUnits YUnits  \\\n",
       "0  [[-34.284217834472656, -34.284217834472656, -3...  [deg]  [deg]   \n",
       "\n",
       "                                                Time  \\\n",
       "0  [[732313.0], [732313.0416666666], [732313.0833...   \n",
       "\n",
       "                                         Name      Units  \\\n",
       "0  [hsig wave vector (mean direction), angle]  [radians]   \n",
       "\n",
       "                                                 Val  \n",
       "0  [[[-0.0, -0.0, -0.0, -0.0, -0.0, -0.0, -0.0, -...  "
      ]
     },
     "execution_count": 46,
     "metadata": {},
     "output_type": "execute_result"
    }
   ],
   "source": [
    "pd.DataFrame(par_mat['data'][0])"
   ]
  },
  {
   "cell_type": "code",
   "execution_count": 100,
   "metadata": {},
   "outputs": [],
   "source": [
    "\n",
    "\n",
    "par_np = par_mat['data']['Val'][0][0]\n",
    "par_np = np.rad2deg(par_np)\n",
    "par_itajai = par_np[1:, itajai_index[0], itajai_index[1]]\n",
    "par_rg = par_np[1:, rg_index[0], rg_index[1]]\n",
    "par_floripa = par_np[1:, floripa_index[0], floripa_index[1]]\n",
    "par_tramanda = par_np[1:, tramanda_index[0], tramanda_index[1]]\n",
    "\n",
    "np.save(str(par) + '_itajai', par_itajai)\n",
    "np.save(str(par) + '_rg', par_rg)\n",
    "np.save(str(par) + '_floripa', par_floripa)\n",
    "np.save(str(par) + '_tramanda', par_tramanda)"
   ]
  },
  {
   "cell_type": "code",
   "execution_count": 38,
   "metadata": {},
   "outputs": [
    {
     "data": {
      "text/plain": [
       "array([160.59274093, 237.20952614, 217.33531301, ..., 237.80016363,\n",
       "       237.27503544, 236.77503005])"
      ]
     },
     "execution_count": 38,
     "metadata": {},
     "output_type": "execute_result"
    }
   ],
   "source": [
    "par_itajai"
   ]
  },
  {
   "cell_type": "code",
   "execution_count": null,
   "metadata": {},
   "outputs": [],
   "source": []
  }
 ],
 "metadata": {
  "kernelspec": {
   "display_name": "Python 3",
   "language": "python",
   "name": "python3"
  },
  "language_info": {
   "codemirror_mode": {
    "name": "ipython",
    "version": 3
   },
   "file_extension": ".py",
   "mimetype": "text/x-python",
   "name": "python",
   "nbconvert_exporter": "python",
   "pygments_lexer": "ipython3",
   "version": "3.7.1"
  }
 },
 "nbformat": 4,
 "nbformat_minor": 2
}

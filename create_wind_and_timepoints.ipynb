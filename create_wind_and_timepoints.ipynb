{
 "cells": [
  {
   "cell_type": "markdown",
   "metadata": {},
   "source": [
    "### Create wind and timepoint input for SWAN"
   ]
  },
  {
   "cell_type": "code",
   "execution_count": 1,
   "metadata": {},
   "outputs": [],
   "source": [
    "import xarray as xr\n",
    "import numpy as np\n",
    "import pandas as pd\n",
    "import datetime as dt"
   ]
  },
  {
   "cell_type": "code",
   "execution_count": 2,
   "metadata": {},
   "outputs": [],
   "source": [
    "filepath = r'C:\\Users\\Mariliasr\\OneDrive\\Documentos\\_UFRGS\\Mestrado\\Dissert\\datasets\\era5\\wind'\n",
    "wind_nc = 'wind_era5_2005.nc'\n",
    "grid_resolution = 0.25\n",
    "u10 = 'u10'\n",
    "v10 = 'v10'\n",
    "\n",
    "x_output_filename = 'x_wind_2005.wnd'\n",
    "y_output_filename = 'y_wind_2005.wnd'\n",
    "\n",
    "delft_path = r'C:\\Users\\Mariliasr\\OneDrive\\Documentos\\_UFRGS\\Mestrado\\Dissert\\hindcast\\2015' \n",
    "timepoint_old_filename = 'timepoints_old.txt'\n",
    "timepoint_filename = 'timepoins.csv'"
   ]
  },
  {
   "cell_type": "code",
   "execution_count": 25,
   "metadata": {},
   "outputs": [
    {
     "name": "stdout",
     "output_type": "stream",
     "text": [
      "C:\\Users\\Mariliasr\\OneDrive\\Documentos\\_UFRGS\\Mestrado\\Dissert\\datasets\\era5\\wind\n"
     ]
    }
   ],
   "source": [
    "%cd $filepath"
   ]
  },
  {
   "cell_type": "code",
   "execution_count": 26,
   "metadata": {},
   "outputs": [],
   "source": [
    "wind_xr = xr.open_dataset(wind_nc)"
   ]
  },
  {
   "cell_type": "code",
   "execution_count": 27,
   "metadata": {},
   "outputs": [
    {
     "data": {
      "text/plain": [
       "<bound method ImplementsDatasetReduce._reduce_method.<locals>.wrapped_func of <xarray.Dataset>\n",
       "Dimensions:    (latitude: 121, longitude: 201, time: 2160)\n",
       "Coordinates:\n",
       "  * longitude  (longitude) float32 -70.0 -69.75 -69.5 ... -20.5 -20.25 -20.0\n",
       "  * latitude   (latitude) float32 -20.0 -20.25 -20.5 ... -49.5 -49.75 -50.0\n",
       "  * time       (time) datetime64[ns] 2005-01-01 ... 2005-03-31T23:00:00\n",
       "Data variables:\n",
       "    u10        (time, latitude, longitude) float32 ...\n",
       "    v10        (time, latitude, longitude) float32 ...\n",
       "Attributes:\n",
       "    Conventions:  CF-1.6\n",
       "    history:      2019-11-06 15:23:44 GMT by grib_to_netcdf-2.14.0: /opt/ecmw...>"
      ]
     },
     "execution_count": 27,
     "metadata": {},
     "output_type": "execute_result"
    }
   ],
   "source": [
    "wind_xr.var"
   ]
  },
  {
   "cell_type": "code",
   "execution_count": 28,
   "metadata": {},
   "outputs": [],
   "source": [
    "wind_xr = wind_xr.sel(latitude=slice(-24, -37.5), longitude=slice(-56.5, -45))"
   ]
  },
  {
   "cell_type": "code",
   "execution_count": 29,
   "metadata": {},
   "outputs": [
    {
     "data": {
      "text/plain": [
       "<bound method ImplementsDatasetReduce._reduce_method.<locals>.wrapped_func of <xarray.Dataset>\n",
       "Dimensions:    (latitude: 55, longitude: 47, time: 2160)\n",
       "Coordinates:\n",
       "  * longitude  (longitude) float32 -56.5 -56.25 -56.0 ... -45.5 -45.25 -45.0\n",
       "  * latitude   (latitude) float32 -24.0 -24.25 -24.5 ... -37.0 -37.25 -37.5\n",
       "  * time       (time) datetime64[ns] 2005-01-01 ... 2005-03-31T23:00:00\n",
       "Data variables:\n",
       "    u10        (time, latitude, longitude) float32 ...\n",
       "    v10        (time, latitude, longitude) float32 ...\n",
       "Attributes:\n",
       "    Conventions:  CF-1.6\n",
       "    history:      2019-11-06 15:23:44 GMT by grib_to_netcdf-2.14.0: /opt/ecmw...>"
      ]
     },
     "execution_count": 29,
     "metadata": {},
     "output_type": "execute_result"
    }
   ],
   "source": [
    "wind_xr.var"
   ]
  },
  {
   "cell_type": "code",
   "execution_count": 30,
   "metadata": {},
   "outputs": [],
   "source": [
    "#Separate variables from nc file\n",
    "\n",
    "longitude = wind_xr['longitude'].values\n",
    "latitude = wind_xr['latitude'].values\n",
    "time = wind_xr['time'].values\n",
    "u_wind = wind_xr[u10].values\n",
    "v_wind = wind_xr[v10].values"
   ]
  },
  {
   "cell_type": "code",
   "execution_count": 31,
   "metadata": {},
   "outputs": [
    {
     "data": {
      "text/plain": [
       "-37.5"
      ]
     },
     "execution_count": 31,
     "metadata": {},
     "output_type": "execute_result"
    }
   ],
   "source": [
    "latitude.min()"
   ]
  },
  {
   "cell_type": "code",
   "execution_count": 32,
   "metadata": {},
   "outputs": [
    {
     "data": {
      "text/plain": [
       "True"
      ]
     },
     "execution_count": 32,
     "metadata": {},
     "output_type": "execute_result"
    }
   ],
   "source": [
    "# Create hourly timepoint vector of strings\n",
    "\n",
    "time = pd.to_datetime(time)\n",
    "timepoints = []\n",
    "delta = time[-1] - time[0]\n",
    "minutes = delta.days*24*60 + delta.seconds/60 + 60\n",
    "timepoint_np = np.arange(0, minutes, 60)\n",
    "\n",
    "for timepoint in range(len(timepoint_np)):\n",
    "    timepoint_str = 'TIME = {:.5e} minutes since {:%Y-%m-%d %H:%M:%S} +00:00'.format(\n",
    "        timepoint_np[timepoint], time[0])\n",
    "    timepoints.append(timepoint_str)\n",
    "    \n",
    "len(timepoints) == len(time)"
   ]
  },
  {
   "cell_type": "code",
   "execution_count": 33,
   "metadata": {},
   "outputs": [
    {
     "name": "stdout",
     "output_type": "stream",
     "text": [
      "C:\\Users\\Mariliasr\\OneDrive\\Documentos\\_UFRGS\\Mestrado\\Dissert\\hindcast\\2015\n"
     ]
    }
   ],
   "source": [
    "%cd $delft_path"
   ]
  },
  {
   "cell_type": "code",
   "execution_count": 34,
   "metadata": {},
   "outputs": [],
   "source": [
    "# Create timepoints old version\n",
    "\n",
    "fin = open(timepoint_old_filename, 'w')\n",
    "for timepoint in range(len(timepoint_np)):\n",
    "    fin.write('''\n",
    "[Timepoint]\n",
    "   Time                 =  {:.7e}\n",
    "   WaterLevel           =  0.0000000e+00\n",
    "   XVeloc               =  0.0000000e+00        \n",
    "   YVeloc               =  0.0000000e+00'''.format(timepoint_np[timepoint]))\n",
    "\n",
    "fin.close()"
   ]
  },
  {
   "cell_type": "code",
   "execution_count": 23,
   "metadata": {},
   "outputs": [],
   "source": [
    "# Create timepoints new version\n",
    "fin = open(timepoint_filename, 'w')\n",
    "for timepoint in range(len(time)):\n",
    "    fin.write(f'''\n",
    "{time[timepoint]}''')\n",
    "\n",
    "fin.close()"
   ]
  },
  {
   "cell_type": "code",
   "execution_count": 38,
   "metadata": {},
   "outputs": [
    {
     "name": "stdout",
     "output_type": "stream",
     "text": [
      "C:\\Users\\Mariliasr\\OneDrive\\Documentos\\_UFRGS\\Mestrado\\Dissert\\datasets\\era5\\wind\n"
     ]
    }
   ],
   "source": [
    "%cd $filepath"
   ]
  },
  {
   "cell_type": "code",
   "execution_count": 42,
   "metadata": {},
   "outputs": [],
   "source": [
    "# Create u .wnd file\n",
    "\n",
    "fin = open(x_output_filename, 'w')\n",
    "fin.write(\n",
    "f'''FileVersion = 1.03\n",
    "filetype = meteo_on_equidistant_grid\n",
    "NODATA_value = -999\n",
    "grid_unit = degree\n",
    "n_cols = {len(longitude)-1}\n",
    "n_rows = {len(latitude)-1}\n",
    "x_llcorner = {longitude.min()} \n",
    "y_llcorner = {latitude.min()}\n",
    "dx = {grid_resolution}\n",
    "dy = {grid_resolution}\n",
    "n_quantity = 1\n",
    "quantity1 = x_wind\n",
    "unit1 = m s-1''')\n",
    "\n",
    "fin.close()\n",
    "\n",
    "fin=open(x_output_filename, 'a+')\n",
    "for timepoint in range(len(timepoints)):\n",
    "    fin.write(\n",
    "'''{}\n",
    "{}'''.format(timepoints[timepoint],\n",
    "             pd.DataFrame(u_wind[timepoint][:][:]).to_csv(index=False,\n",
    "                                                          header=False,\n",
    "                                                          sep=',',\n",
    "                                                          float_format='%10.5f',\n",
    "                                                          na_rep= -999)))\n",
    "fin = open(x_output_filename, \"rt\")\n",
    "data = fin.read()\n",
    "data = data.replace(',', '')\n",
    "fin.close()\n",
    "    \n",
    "fin = open(x_output_filename, \"wt\")\n",
    "fin.write(data)\n",
    "fin.close()"
   ]
  },
  {
   "cell_type": "code",
   "execution_count": 43,
   "metadata": {},
   "outputs": [],
   "source": [
    "# Create v .wnd file\n",
    "\n",
    "fin = open(y_output_filename, 'w')\n",
    "fin.write(\n",
    "f'''FileVersion = 1.03\n",
    "filetype = meteo_on_equidistant_grid\n",
    "NODATA_value = -999\n",
    "grid_unit = degree\n",
    "n_cols = {len(longitude)-1}\n",
    "n_rows = {len(latitude)-1}\n",
    "x_llcorner = {longitude.min()} \n",
    "y_llcorner = {latitude.min()}\n",
    "dx = {grid_resolution}\n",
    "dy = {grid_resolution}\n",
    "n_quantity = 1\n",
    "quantity1 = y_wind\n",
    "unit1 = m s-1''')\n",
    "\n",
    "fin.close()\n",
    "\n",
    "fin=open(y_output_filename, 'a+')\n",
    "for timepoint in range(len(timepoints)):\n",
    "    fin.write(\n",
    "'''{}\n",
    "{}'''.format(timepoints[timepoint],\n",
    "             pd.DataFrame(v_wind[timepoint][:][:]).to_csv(index=False,\n",
    "                                                          header=False,\n",
    "                                                          sep=',',\n",
    "                                                          float_format='%10.5f',\n",
    "                                                          na_rep= -999)))\n",
    "fin = open(y_output_filename, \"rt\")\n",
    "data = fin.read()\n",
    "data = data.replace(',', '')\n",
    "fin.close()\n",
    "    \n",
    "fin = open(y_output_filename, \"wt\")\n",
    "fin.write(data)\n",
    "fin.close()"
   ]
  },
  {
   "cell_type": "code",
   "execution_count": null,
   "metadata": {},
   "outputs": [],
   "source": []
  }
 ],
 "metadata": {
  "kernelspec": {
   "display_name": "Python 3",
   "language": "python",
   "name": "python3"
  },
  "language_info": {
   "codemirror_mode": {
    "name": "ipython",
    "version": 3
   },
   "file_extension": ".py",
   "mimetype": "text/x-python",
   "name": "python",
   "nbconvert_exporter": "python",
   "pygments_lexer": "ipython3",
   "version": "3.7.1"
  }
 },
 "nbformat": 4,
 "nbformat_minor": 2
}
